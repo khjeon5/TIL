{
  "nbformat": 4,
  "nbformat_minor": 0,
  "metadata": {
    "kernelspec": {
      "display_name": "Python 3",
      "language": "python",
      "name": "python3"
    },
    "language_info": {
      "codemirror_mode": {
        "name": "ipython",
        "version": 3
      },
      "file_extension": ".py",
      "mimetype": "text/x-python",
      "name": "python",
      "nbconvert_exporter": "python",
      "pygments_lexer": "ipython3",
      "version": "3.6.7"
    },
    "toc": {
      "base_numbering": 1,
      "nav_menu": {},
      "number_sections": true,
      "sideBar": true,
      "skip_h1_title": false,
      "title_cell": "Table of Contents",
      "title_sidebar": "Contents",
      "toc_cell": false,
      "toc_position": {},
      "toc_section_display": true,
      "toc_window_display": false
    },
    "colab": {
      "name": "00_python_intro.ipynb",
      "provenance": [],
      "toc_visible": true,
      "include_colab_link": true
    }
  },
  "cells": [
    {
      "cell_type": "markdown",
      "metadata": {
        "id": "view-in-github",
        "colab_type": "text"
      },
      "source": [
        "<a href=\"https://colab.research.google.com/github/khjeon5/TIL/blob/master/00_python_intro.ipynb\" target=\"_parent\"><img src=\"https://colab.research.google.com/assets/colab-badge.svg\" alt=\"Open In Colab\"/></a>"
      ]
    },
    {
      "cell_type": "markdown",
      "metadata": {
        "id": "wquoJJqlti2n",
        "colab_type": "text"
      },
      "source": [
        "# Python 기초\n",
        "\n",
        "## 개요\n",
        "\n",
        "본 강의 자료는 [Python 공식 Tutorial](https://docs.python.org/3.7/tutorial/index.html)에 근거하여 만들어졌으며, Python 3.7 버전에 해당하는 내용을 담고 있습니다.\n",
        "\n",
        "또한, 파이썬에서 제공하는 스타일 가이드인 [`PEP-8`](https://www.python.org/dev/peps/pep-0008/) 내용을 반영하였습니다. \n",
        "\n",
        "파이썬을 활용하는 다양한 IT기업들은 대내외적으로 본인들의 스타일 가이드를 제공하고 있습니다. \n",
        "\n",
        "* [구글 스타일 가이드](https://github.com/google/styleguide/blob/gh-pages/pyguide.md)\n",
        "* [Tensorflow 스타일 가이드](https://www.tensorflow.org/community/style_guide)\n",
        "\n"
      ]
    },
    {
      "cell_type": "markdown",
      "metadata": {
        "id": "ZCA8__Uzti2p",
        "colab_type": "text"
      },
      "source": [
        "## 기초 문법(Syntax)\n",
        "### 주석(Comment)\n",
        "\n",
        "* 한 줄 주석은 `#`으로 표현한다. \n",
        "\n",
        "* 여러 줄의 주석은 \n",
        "    1. 한 줄 씩 `#`을 사용해서 표현하거나,\n",
        "    2. `\"\"\"` 또는 `'''`(여러줄 문자열, multiline string)으로 표현할 수 있습니다.\n",
        "    (multiline은 주로 함수/클래스를 설명(docstring)하기 위해 활용됩니다.)"
      ]
    },
    {
      "cell_type": "code",
      "metadata": {
        "id": "H2HfvE0uti2r",
        "colab_type": "code",
        "colab": {}
      },
      "source": [
        "# 주석을 연습해봅시다. "
      ],
      "execution_count": null,
      "outputs": []
    },
    {
      "cell_type": "code",
      "metadata": {
        "id": "XUd62P2Ati23",
        "colab_type": "code",
        "colab": {}
      },
      "source": [
        ""
      ],
      "execution_count": null,
      "outputs": []
    },
    {
      "cell_type": "code",
      "metadata": {
        "id": "escrpww3ti29",
        "colab_type": "code",
        "colab": {}
      },
      "source": [
        "# 여러줄 주석을 multiline string을 활용하여 연습해봅시다."
      ],
      "execution_count": null,
      "outputs": []
    },
    {
      "cell_type": "code",
      "metadata": {
        "id": "CEmHN9hBti3F",
        "colab_type": "code",
        "colab": {}
      },
      "source": [
        ""
      ],
      "execution_count": null,
      "outputs": []
    },
    {
      "cell_type": "markdown",
      "metadata": {
        "id": "BkHZkESgti3Q",
        "colab_type": "text"
      },
      "source": [
        "### 코드 라인\n",
        "* 파이썬 코드는 '1줄에 1문장(statment)'이 원칙이다.\n",
        "\n",
        "* 문장(statement)은 파이썬이 실행 가능(executable)한 최소한의 코드 단위이다. \n",
        "\n",
        "* 기본적으로 파이썬에서는 `;`을 작성하지 않는다.\n",
        "\n",
        "* 한 줄로 표기할때는 `;`을 작성하여 표기할 수 있다. "
      ]
    },
    {
      "cell_type": "code",
      "metadata": {
        "id": "RPQOpZn0ti3S",
        "colab_type": "code",
        "colab": {}
      },
      "source": [
        "# print문을 두번 써봅시다."
      ],
      "execution_count": null,
      "outputs": []
    },
    {
      "cell_type": "code",
      "metadata": {
        "id": "a2sVRFoAti3a",
        "colab_type": "code",
        "colab": {}
      },
      "source": [
        ""
      ],
      "execution_count": null,
      "outputs": []
    },
    {
      "cell_type": "code",
      "metadata": {
        "id": "EFAE4HGHti3k",
        "colab_type": "code",
        "colab": {}
      },
      "source": [
        "# print문을 한줄로 이어서 써봅시다. 오류 메시지를 확인해주세요."
      ],
      "execution_count": null,
      "outputs": []
    },
    {
      "cell_type": "code",
      "metadata": {
        "id": "DzPTzsslti3w",
        "colab_type": "code",
        "colab": {}
      },
      "source": [
        ""
      ],
      "execution_count": null,
      "outputs": []
    },
    {
      "cell_type": "code",
      "metadata": {
        "id": "Kt6-7TPqti38",
        "colab_type": "code",
        "colab": {}
      },
      "source": [
        "# ;을 통해 오류를 해결해봅시다."
      ],
      "execution_count": null,
      "outputs": []
    },
    {
      "cell_type": "code",
      "metadata": {
        "id": "y9jaj0Mcti4D",
        "colab_type": "code",
        "colab": {}
      },
      "source": [
        ""
      ],
      "execution_count": null,
      "outputs": []
    },
    {
      "cell_type": "code",
      "metadata": {
        "id": "-40iitMiti4M",
        "colab_type": "code",
        "colab": {}
      },
      "source": [
        "# 하지만 위와 같이 잘 쓰지는 않습니다."
      ],
      "execution_count": null,
      "outputs": []
    },
    {
      "cell_type": "markdown",
      "metadata": {
        "id": "kCHCd6u0ti4V",
        "colab_type": "text"
      },
      "source": [
        "* 줄을 여러줄 작성할 때는 역슬래시`\\`를 사용하여 아래와 같이 할 수 있다. "
      ]
    },
    {
      "cell_type": "code",
      "metadata": {
        "id": "6iaaw-e7ti4W",
        "colab_type": "code",
        "colab": {}
      },
      "source": [
        "# print문을 통해 안되는 코드 예시 작성해봅시다."
      ],
      "execution_count": null,
      "outputs": []
    },
    {
      "cell_type": "code",
      "metadata": {
        "id": "naKqHltzti4h",
        "colab_type": "code",
        "colab": {}
      },
      "source": [
        ""
      ],
      "execution_count": null,
      "outputs": []
    },
    {
      "cell_type": "code",
      "metadata": {
        "id": "Xey8qFn_ti4o",
        "colab_type": "code",
        "colab": {}
      },
      "source": [
        "# print문을 통해 되는 코드 예시 작성해봅시다."
      ],
      "execution_count": null,
      "outputs": []
    },
    {
      "cell_type": "code",
      "metadata": {
        "id": "TL0U9xzHti4y",
        "colab_type": "code",
        "colab": {}
      },
      "source": [
        "# 아래와 같은 동작이 가능 하지만 잘 쓰이지는 않습니다."
      ],
      "execution_count": null,
      "outputs": []
    },
    {
      "cell_type": "code",
      "metadata": {
        "id": "86CRLatmti47",
        "colab_type": "code",
        "colab": {}
      },
      "source": [
        ""
      ],
      "execution_count": null,
      "outputs": []
    },
    {
      "cell_type": "markdown",
      "metadata": {
        "id": "2XJnms35ti5D",
        "colab_type": "text"
      },
      "source": [
        "* `[]` `{}` `()`는 `\\` 없이도 가능하다."
      ]
    },
    {
      "cell_type": "code",
      "metadata": {
        "id": "kpX4Qx97ti5E",
        "colab_type": "code",
        "colab": {}
      },
      "source": [
        "# list를 여러 줄에 걸쳐서 만들어봅시다."
      ],
      "execution_count": null,
      "outputs": []
    },
    {
      "cell_type": "code",
      "metadata": {
        "id": "dTPNQln6ti5T",
        "colab_type": "code",
        "colab": {}
      },
      "source": [
        ""
      ],
      "execution_count": null,
      "outputs": []
    },
    {
      "cell_type": "markdown",
      "metadata": {
        "id": "8Y78yePzti5g",
        "colab_type": "text"
      },
      "source": [
        "# 변수(Variable)"
      ]
    },
    {
      "cell_type": "markdown",
      "metadata": {
        "id": "gl_9Hmo_ti5k",
        "colab_type": "text"
      },
      "source": [
        "## 변수 \n",
        "\n",
        "<center><img src=\"https://user-images.githubusercontent.com/18046097/61179855-0c8d0200-a646-11e9-9e9e-2c6df0504296.png\", alt=\"variable\"/></center>"
      ]
    },
    {
      "cell_type": "markdown",
      "metadata": {
        "id": "Hh7SDd92ti5o",
        "colab_type": "text"
      },
      "source": [
        "\n",
        "<center><img src=\"https://user-images.githubusercontent.com/18046097/61179857-13b41000-a646-11e9-9a88-8487df4eaf52.png\", alt=\"box\"/></center>"
      ]
    },
    {
      "cell_type": "markdown",
      "metadata": {
        "id": "WPadwqhUti5s",
        "colab_type": "text"
      },
      "source": [
        "### 할당 연산자(Assignment Operator): `=`\n",
        "\n",
        "* 변수는 `=`을 통해 할당(assignment) 된다. \n",
        "\n",
        "* 해당 데이터 타입을 확인하기 위해서는 `type()`을 활용한다.\n",
        "\n",
        "* 해당 값의 메모리 주소를 확인하기 위해서는 `id()`를 활용한다."
      ]
    },
    {
      "cell_type": "code",
      "metadata": {
        "id": "CgXSWwSuti50",
        "colab_type": "code",
        "colab": {}
      },
      "source": [
        "# 변수에 값을 할당해봅시다."
      ],
      "execution_count": null,
      "outputs": []
    },
    {
      "cell_type": "code",
      "metadata": {
        "id": "oKotMs2_ti6H",
        "colab_type": "code",
        "colab": {}
      },
      "source": [
        ""
      ],
      "execution_count": null,
      "outputs": []
    },
    {
      "cell_type": "code",
      "metadata": {
        "id": "CA9k4IxIti6U",
        "colab_type": "code",
        "colab": {}
      },
      "source": [
        "# type()을 사용해봅시다."
      ],
      "execution_count": null,
      "outputs": []
    },
    {
      "cell_type": "code",
      "metadata": {
        "id": "UrPxC-Kjti6q",
        "colab_type": "code",
        "colab": {}
      },
      "source": [
        ""
      ],
      "execution_count": null,
      "outputs": []
    },
    {
      "cell_type": "code",
      "metadata": {
        "id": "6PG61U8lti63",
        "colab_type": "code",
        "colab": {}
      },
      "source": [
        "# id()를 사용해봅시다."
      ],
      "execution_count": null,
      "outputs": []
    },
    {
      "cell_type": "code",
      "metadata": {
        "id": "aQisDRi7ti7H",
        "colab_type": "code",
        "colab": {}
      },
      "source": [
        ""
      ],
      "execution_count": null,
      "outputs": []
    },
    {
      "cell_type": "markdown",
      "metadata": {
        "id": "rSc7aiyEti7Z",
        "colab_type": "text"
      },
      "source": [
        "* 같은 값을 동시에 할당할 수 있다."
      ]
    },
    {
      "cell_type": "code",
      "metadata": {
        "id": "CagRMCeYti7b",
        "colab_type": "code",
        "colab": {}
      },
      "source": [
        "# 같은 값을 동시에 할당해봅시다."
      ],
      "execution_count": null,
      "outputs": []
    },
    {
      "cell_type": "code",
      "metadata": {
        "id": "UuGw4sVbti7k",
        "colab_type": "code",
        "colab": {}
      },
      "source": [
        ""
      ],
      "execution_count": null,
      "outputs": []
    },
    {
      "cell_type": "markdown",
      "metadata": {
        "id": "vxldirAiti7x",
        "colab_type": "text"
      },
      "source": [
        "* 다른 값을 동시에 할당 가능하다."
      ]
    },
    {
      "cell_type": "code",
      "metadata": {
        "id": "s4M3FsDbti7y",
        "colab_type": "code",
        "colab": {}
      },
      "source": [
        "# 동시에 두개의 변수에 값 두개를 할당해봅시다."
      ],
      "execution_count": null,
      "outputs": []
    },
    {
      "cell_type": "code",
      "metadata": {
        "id": "u92KUEiQti75",
        "colab_type": "code",
        "colab": {}
      },
      "source": [
        ""
      ],
      "execution_count": null,
      "outputs": []
    },
    {
      "cell_type": "code",
      "metadata": {
        "id": "6pzXVhOcti8M",
        "colab_type": "code",
        "colab": {}
      },
      "source": [
        "# 변수의 개수가 더 많을 때 오류를 알아봅시다."
      ],
      "execution_count": null,
      "outputs": []
    },
    {
      "cell_type": "code",
      "metadata": {
        "id": "9th8nc18ti8U",
        "colab_type": "code",
        "colab": {}
      },
      "source": [
        ""
      ],
      "execution_count": null,
      "outputs": []
    },
    {
      "cell_type": "code",
      "metadata": {
        "id": "b5a17hkHti8c",
        "colab_type": "code",
        "colab": {}
      },
      "source": [
        "# 변수의 개수가 더 적을 때 오류를 알아봅시다."
      ],
      "execution_count": null,
      "outputs": []
    },
    {
      "cell_type": "code",
      "metadata": {
        "id": "g77-RH_Qti8h",
        "colab_type": "code",
        "colab": {}
      },
      "source": [
        ""
      ],
      "execution_count": null,
      "outputs": []
    },
    {
      "cell_type": "markdown",
      "metadata": {
        "id": "JP_u4FiBti8n",
        "colab_type": "text"
      },
      "source": [
        "* 이를 활용하면 서로 값을 바꾸고 싶은 경우 아래와 같이 활용 가능하다."
      ]
    },
    {
      "cell_type": "code",
      "metadata": {
        "id": "9EHERiSYti8o",
        "colab_type": "code",
        "colab": {}
      },
      "source": [
        "# 변수 x와 y의 값을 바꿔봅시다."
      ],
      "execution_count": null,
      "outputs": []
    },
    {
      "cell_type": "code",
      "metadata": {
        "id": "m-f_Fc-ati8x",
        "colab_type": "code",
        "colab": {}
      },
      "source": [
        ""
      ],
      "execution_count": null,
      "outputs": []
    },
    {
      "cell_type": "markdown",
      "metadata": {
        "id": "Bjiw_lfHti83",
        "colab_type": "text"
      },
      "source": [
        "### 식별자(Identifiers)\n",
        "\n",
        "파이썬에서 식별자는 변수, 함수, 모듈, 클래스 등을 식별하는데 사용되는 이름(name)입니다. \n",
        "\n",
        "* 식별자의 이름은 영문알파벳(대문자와 소문자), 밑줄(_), 숫자로 구성된다.\n",
        "* 첫 글자에 숫자가 올 수 없다.\n",
        "* 길이에 제한이 없다.\n",
        "* 대소문자(case)를 구별한다.\n",
        "* 아래의 예약어는 사용할 수 없다. \n",
        "\n",
        "```\n",
        "False, None, True, and, as, assert, break, class, continue, def, del, elif, else, except, finally, for, from, global, if, import, in, is, lambda, nonlocal, not, or, pass, raise, return, try, while, with, yield\n",
        "```"
      ]
    },
    {
      "cell_type": "code",
      "metadata": {
        "id": "w3NN2He6ti85",
        "colab_type": "code",
        "colab": {
          "base_uri": "https://localhost:8080/",
          "height": 54
        },
        "outputId": "cf98ab3f-c419-4098-cb06-f02d08097fba"
      },
      "source": [
        "# 예약어들을 직접 확인해봅시다.\n",
        "import keyword\n",
        "print(keyword.kwlist)"
      ],
      "execution_count": 1,
      "outputs": [
        {
          "output_type": "stream",
          "text": [
            "['False', 'None', 'True', 'and', 'as', 'assert', 'break', 'class', 'continue', 'def', 'del', 'elif', 'else', 'except', 'finally', 'for', 'from', 'global', 'if', 'import', 'in', 'is', 'lambda', 'nonlocal', 'not', 'or', 'pass', 'raise', 'return', 'try', 'while', 'with', 'yield']\n"
          ],
          "name": "stdout"
        }
      ]
    },
    {
      "cell_type": "code",
      "metadata": {
        "id": "gVutz95tti9D",
        "colab_type": "code",
        "colab": {}
      },
      "source": [
        "# import 구문은 모듈파트에서 다시 알아봅시다.\n"
      ],
      "execution_count": null,
      "outputs": []
    },
    {
      "cell_type": "markdown",
      "metadata": {
        "id": "xAbcNjeGti9I",
        "colab_type": "text"
      },
      "source": [
        "*  내장함수나 모듈 등의 이름으로도 만들면 안된다."
      ]
    },
    {
      "cell_type": "code",
      "metadata": {
        "id": "ziOHunJ6ti9J",
        "colab_type": "code",
        "colab": {}
      },
      "source": [
        "# 내장함수의 이름을 사용하면 어떤일이 일어나는지 확인해봅시다."
      ],
      "execution_count": null,
      "outputs": []
    },
    {
      "cell_type": "code",
      "metadata": {
        "id": "JbHMnBHSti9P",
        "colab_type": "code",
        "colab": {
          "base_uri": "https://localhost:8080/",
          "height": 34
        },
        "outputId": "012d79ce-8564-46d3-bf6b-6606dc919962"
      },
      "source": [
        "# print는 값을 출력해주는 내장함수(Built-in function)입니다.\n",
        "print('hello')"
      ],
      "execution_count": 2,
      "outputs": [
        {
          "output_type": "stream",
          "text": [
            "hello\n"
          ],
          "name": "stdout"
        }
      ]
    },
    {
      "cell_type": "code",
      "metadata": {
        "id": "ve_E0uWwti9Z",
        "colab_type": "code",
        "colab": {
          "base_uri": "https://localhost:8080/",
          "height": 203
        },
        "outputId": "05f0dc3c-ad34-4910-e410-29909a1d00a9"
      },
      "source": [
        "# 예시로 print에 값을 할당해보고, 오류를 확인해봅시다.\n",
        "# print은 이제 'hi'라는 값으로 인식되기 때문에 이전의 기능을 수행하지 못합니다.\n",
        "print = 'ssafy'\n",
        "print(print)"
      ],
      "execution_count": 3,
      "outputs": [
        {
          "output_type": "error",
          "ename": "TypeError",
          "evalue": "ignored",
          "traceback": [
            "\u001b[0;31m---------------------------------------------------------------------------\u001b[0m",
            "\u001b[0;31mTypeError\u001b[0m                                 Traceback (most recent call last)",
            "\u001b[0;32m<ipython-input-3-9e3b0c680846>\u001b[0m in \u001b[0;36m<module>\u001b[0;34m()\u001b[0m\n\u001b[1;32m      2\u001b[0m \u001b[0;31m# print은 이제 'hi'라는 값으로 인식되기 때문에 이전의 기능을 수행하지 못합니다.\u001b[0m\u001b[0;34m\u001b[0m\u001b[0;34m\u001b[0m\u001b[0;34m\u001b[0m\u001b[0m\n\u001b[1;32m      3\u001b[0m \u001b[0mprint\u001b[0m \u001b[0;34m=\u001b[0m \u001b[0;34m'ssafy'\u001b[0m\u001b[0;34m\u001b[0m\u001b[0;34m\u001b[0m\u001b[0m\n\u001b[0;32m----> 4\u001b[0;31m \u001b[0mprint\u001b[0m\u001b[0;34m(\u001b[0m\u001b[0mprint\u001b[0m\u001b[0;34m)\u001b[0m\u001b[0;34m\u001b[0m\u001b[0;34m\u001b[0m\u001b[0m\n\u001b[0m",
            "\u001b[0;31mTypeError\u001b[0m: 'str' object is not callable"
          ]
        }
      ]
    },
    {
      "cell_type": "code",
      "metadata": {
        "id": "v7VK6-e2ti9q",
        "colab_type": "code",
        "colab": {}
      },
      "source": [
        "# 뒤에서 진행될 코드에 영향이 갈 수 있기 때문에 방금 생성한 print를 삭제합니다.\n",
        "del print"
      ],
      "execution_count": 4,
      "outputs": []
    },
    {
      "cell_type": "markdown",
      "metadata": {
        "id": "jbADH2t0ti9x",
        "colab_type": "text"
      },
      "source": [
        "# 데이터 타입(Data Type)\n",
        "\n",
        "- **숫자**(Number) 타입\n",
        "- **글자**(String) 타입\n",
        "- **참/거짓**(Boolean) 타입\n"
      ]
    },
    {
      "cell_type": "markdown",
      "metadata": {
        "id": "vzMgOAZCti90",
        "colab_type": "text"
      },
      "source": [
        "## 숫자(Number) 타입\n",
        "[python doc 숫자 형](https://docs.python.org/ko/3.7/library/stdtypes.html#numeric-types-int-float-complex)\n",
        "\n"
      ]
    },
    {
      "cell_type": "markdown",
      "metadata": {
        "id": "DpzHg8n1ti91",
        "colab_type": "text"
      },
      "source": [
        "###  (1) `int` (정수, ingteger)\n",
        "\n",
        "모든 정수는 `int`로 표현됩니다.\n",
        "\n",
        "파이썬 3.x 버전에서는 `long` 타입은 없고 모두 `int` 타입으로 표기 됩니다.\n",
        "\n",
        "* python 3.x에서 long은 없어졌다.\n",
        "* 보통 프로그래밍 언어 및 파이썬 2.x에서의 long은 OS 기준 32/64비트이다.\n",
        "* 파이썬 3.x에서는 모두 int로 통합되었다.\n",
        "\n",
        "8진수 : `0o` / 2진수 : `0b` / 16진수: `0x` 로도 표현 가능합니다. "
      ]
    },
    {
      "cell_type": "code",
      "metadata": {
        "id": "ZwVJA6kjti92",
        "colab_type": "code",
        "colab": {}
      },
      "source": [
        "# 변수에 정수를 넣고 해당 변수의 type을 알아봅시다."
      ],
      "execution_count": null,
      "outputs": []
    },
    {
      "cell_type": "code",
      "metadata": {
        "id": "EgeIKyrQti98",
        "colab_type": "code",
        "colab": {}
      },
      "source": [
        ""
      ],
      "execution_count": null,
      "outputs": []
    },
    {
      "cell_type": "markdown",
      "metadata": {
        "id": "yQSHavGXti-G",
        "colab_type": "text"
      },
      "source": [
        "**파이썬에서 표현할 수 있는 가장 큰 수**\n",
        "* 파이썬에서 가장 큰 숫자를 활용하기 위해 sys 모듈을 불러온다.\n",
        "* 파이썬은 기존 C 계열 프로그래밍 언어와 다르게 정수 자료형(integer)에서 오버플로우가 없다.\n",
        "* arbitrary-precision arithmetic를 사용하기 때문이다. \n",
        "\n",
        "> **오버플로우(overflow)**\n",
        "- 데이터 타입 별로 사용할 수 있는 메모리의 크기가 제한되어 있다.\n",
        "- 표현할 수 있는 수의 범위를 넘어가는 연산을 하게 되면, 기대했던 값이 출력되지 않는 현상, 즉 메모리가 차고 넘쳐 흐르는 현상\n",
        "\n",
        "> **arbitrary-precision arithmetic**\n",
        "- [파이썬에서 아주 큰 정수를 표현할 때 사용하는 메모리의 크기 변화](https://mortada.net/can-integer-operations-overflow-in-python.html)\n",
        "- 사용할 수 있는 메모리양이 정해져 있는 기존의 방식과 달리, 현재 남아있는 만큼의 가용 메모리를 모두 수 표현에 끌어다 쓸 수 있는 형태\n",
        "- 특정 값을 나타내는데 4바이트가 부족하다면 5바이트, 더 부족하면 6바이트까지 사용할 수 있게 유동적으로 운용\n"
      ]
    },
    {
      "cell_type": "code",
      "metadata": {
        "id": "TiIHFHdeti-I",
        "colab_type": "code",
        "colab": {}
      },
      "source": [
        "# n진수를 만들어보고, 출력해봅시다."
      ],
      "execution_count": null,
      "outputs": []
    },
    {
      "cell_type": "code",
      "metadata": {
        "id": "L_HUlUKx2-ih",
        "colab_type": "code",
        "colab": {
          "base_uri": "https://localhost:8080/",
          "height": 69
        },
        "outputId": "c69b15b3-b8c9-46b1-edd3-4d74c3fd5a5b"
      },
      "source": [
        "binary_number = 0b10\n",
        "print(binary_number)\n",
        "\n",
        "octal_number = 0o10\n",
        "print(octal_number)\n",
        "\n",
        "hexadecimal = 0x10\n",
        "print(hexadecimal)"
      ],
      "execution_count": 10,
      "outputs": [
        {
          "output_type": "stream",
          "text": [
            "2\n",
            "8\n",
            "16\n"
          ],
          "name": "stdout"
        }
      ]
    },
    {
      "cell_type": "code",
      "metadata": {
        "id": "xIP8R6gVti-T",
        "colab_type": "code",
        "colab": {
          "base_uri": "https://localhost:8080/",
          "height": 34
        },
        "outputId": "35aa3e85-2325-4009-b9fc-cad2ad8bbdca"
      },
      "source": [
        "import sys\n",
        "\n",
        "\n",
        "print(sys.maxsize * sys.maxsize)"
      ],
      "execution_count": 7,
      "outputs": [
        {
          "output_type": "stream",
          "text": [
            "85070591730234615847396907784232501249\n"
          ],
          "name": "stdout"
        }
      ]
    },
    {
      "cell_type": "markdown",
      "metadata": {
        "id": "rtRzHDJeti-b",
        "colab_type": "text"
      },
      "source": [
        "### (2) `float` (부동소수점, 실수, floating point number)\n",
        "\n",
        "실수는 `float`로 표현됩니다. \n",
        "\n",
        "다만, 실수를 컴퓨터가 표현하는 과정에서 부동소수점을 사용하며, 항상 같은 값으로 일치되지 않습니다. (floating point rounding error)\n",
        "\n",
        "이는 컴퓨터가 2진수(비트)를 통해 숫자를 표현하는 과정에서 생기는 오류이며, 대부분의 경우는 중요하지 않으나 값을 같은지 비교하는 과정에서 문제가 발생할 수 있습니다."
      ]
    },
    {
      "cell_type": "code",
      "metadata": {
        "id": "Vjr1pyAsti-c",
        "colab_type": "code",
        "colab": {}
      },
      "source": [
        "# 변수에 실수를 넣고 해당 변수의 type을 알아봅시다."
      ],
      "execution_count": null,
      "outputs": []
    },
    {
      "cell_type": "code",
      "metadata": {
        "id": "18jUO2Eoti-h",
        "colab_type": "code",
        "colab": {
          "base_uri": "https://localhost:8080/",
          "height": 34
        },
        "outputId": "d19b7886-4f5c-4e0c-ebb3-4ec57d6b3e53"
      },
      "source": [
        "pie = 3.14\n",
        "type(pie)"
      ],
      "execution_count": 11,
      "outputs": [
        {
          "output_type": "execute_result",
          "data": {
            "text/plain": [
              "float"
            ]
          },
          "metadata": {
            "tags": []
          },
          "execution_count": 11
        }
      ]
    },
    {
      "cell_type": "markdown",
      "metadata": {
        "id": "CbLWZp9xti-l",
        "colab_type": "text"
      },
      "source": [
        "#### 컴퓨터식 지수 표현 방식\n",
        "* e를 사용할 수도 있다. (e와 E 둘 중 어느 것을 사용해도 무방)"
      ]
    },
    {
      "cell_type": "code",
      "metadata": {
        "id": "yKJfCMX0ti-m",
        "colab_type": "code",
        "colab": {}
      },
      "source": [
        "# 컴퓨터식 지수 표현 방식을 사용해봅시다."
      ],
      "execution_count": null,
      "outputs": []
    },
    {
      "cell_type": "code",
      "metadata": {
        "id": "WD2RcSzjti-t",
        "colab_type": "code",
        "colab": {}
      },
      "source": [
        ""
      ],
      "execution_count": null,
      "outputs": []
    },
    {
      "cell_type": "markdown",
      "metadata": {
        "id": "T9B8pOPZti-0",
        "colab_type": "text"
      },
      "source": [
        "#### 실수의 연산 `매우중요`자주 실수\n",
        "* 실수의 경우 실제로 값을 처리하기 위해서는 조심할 필요가 있다."
      ]
    },
    {
      "cell_type": "code",
      "metadata": {
        "id": "eZ8pwTxyti-4",
        "colab_type": "code",
        "colab": {}
      },
      "source": [
        "# 실수의 덧셈을 해봅시다."
      ],
      "execution_count": null,
      "outputs": []
    },
    {
      "cell_type": "code",
      "metadata": {
        "id": "dFjrzCYlti_A",
        "colab_type": "code",
        "colab": {
          "base_uri": "https://localhost:8080/",
          "height": 34
        },
        "outputId": "96d10189-4254-4740-ff9b-d80e96d7a1fa"
      },
      "source": [
        "3.5+3.2"
      ],
      "execution_count": 12,
      "outputs": [
        {
          "output_type": "execute_result",
          "data": {
            "text/plain": [
              "6.7"
            ]
          },
          "metadata": {
            "tags": []
          },
          "execution_count": 12
        }
      ]
    },
    {
      "cell_type": "code",
      "metadata": {
        "id": "4VpzwUP1ti_K",
        "colab_type": "code",
        "colab": {}
      },
      "source": [
        "# 실수의 뺄셈을 해봅시다."
      ],
      "execution_count": null,
      "outputs": []
    },
    {
      "cell_type": "code",
      "metadata": {
        "id": "Barbd5-Qti_U",
        "colab_type": "code",
        "colab": {
          "base_uri": "https://localhost:8080/",
          "height": 34
        },
        "outputId": "4a92b3b0-8faa-438f-ad0e-283c75e09b59"
      },
      "source": [
        "3.5-3.2 ==0.3"
      ],
      "execution_count": 14,
      "outputs": [
        {
          "output_type": "execute_result",
          "data": {
            "text/plain": [
              "False"
            ]
          },
          "metadata": {
            "tags": []
          },
          "execution_count": 14
        }
      ]
    },
    {
      "cell_type": "code",
      "metadata": {
        "id": "q21Gyf64ti_Z",
        "colab_type": "code",
        "colab": {}
      },
      "source": [
        "# 우리가 원하는대로 반올림을 해봅시다.\n",
        "# round() 는 0~4는 내림, 5는 동일하게 작동하지 않고 반올림 방식에 따라 다릅니다.\n",
        "# 짝수에서 5는 내림 / 홀수에서 5는 올림"
      ],
      "execution_count": null,
      "outputs": []
    },
    {
      "cell_type": "code",
      "metadata": {
        "id": "P152MR4gti_h",
        "colab_type": "code",
        "colab": {
          "base_uri": "https://localhost:8080/",
          "height": 34
        },
        "outputId": "81ed38bb-588e-440b-8353-1dc9fd7ccbc8"
      },
      "source": [
        "round(3.5-3.2, 2) ==0.3"
      ],
      "execution_count": 17,
      "outputs": [
        {
          "output_type": "execute_result",
          "data": {
            "text/plain": [
              "True"
            ]
          },
          "metadata": {
            "tags": []
          },
          "execution_count": 17
        }
      ]
    },
    {
      "cell_type": "code",
      "metadata": {
        "id": "XbmV5iLnti_s",
        "colab_type": "code",
        "colab": {}
      },
      "source": [
        "# 두 개의 값이 같은지 확인해봅시다."
      ],
      "execution_count": null,
      "outputs": []
    },
    {
      "cell_type": "code",
      "metadata": {
        "id": "fHjBtZoCti_v",
        "colab_type": "code",
        "colab": {
          "base_uri": "https://localhost:8080/",
          "height": 34
        },
        "outputId": "c71ce1b8-0fb8-42bd-bd27-0b853179ee22"
      },
      "source": [
        "a = 3.5 -3.2\n",
        "b= 0.3\n",
        "\n",
        "a==b"
      ],
      "execution_count": 18,
      "outputs": [
        {
          "output_type": "execute_result",
          "data": {
            "text/plain": [
              "False"
            ]
          },
          "metadata": {
            "tags": []
          },
          "execution_count": 18
        }
      ]
    },
    {
      "cell_type": "markdown",
      "metadata": {
        "id": "92BS4RJkti_2",
        "colab_type": "text"
      },
      "source": [
        "* 따라서 다음과 같은 방법으로 처리 할 수 있다. (이외에 다양한 방법이 있음)"
      ]
    },
    {
      "cell_type": "code",
      "metadata": {
        "id": "N2fljSRsti_3",
        "colab_type": "code",
        "colab": {}
      },
      "source": [
        "# 1. 기본적인 처리방법을 알아봅시다."
      ],
      "execution_count": null,
      "outputs": []
    },
    {
      "cell_type": "code",
      "metadata": {
        "id": "lY5cOo53ti__",
        "colab_type": "code",
        "colab": {
          "base_uri": "https://localhost:8080/",
          "height": 52
        },
        "outputId": "9312e998-21d7-4e01-9213-579b5d6a26a0"
      },
      "source": [
        "import sys\n",
        "print(sys.float_info.epsilon)\n",
        "\n",
        "abs(a-b) <= sys.float_info.epsilon"
      ],
      "execution_count": 21,
      "outputs": [
        {
          "output_type": "stream",
          "text": [
            "2.220446049250313e-16\n"
          ],
          "name": "stdout"
        },
        {
          "output_type": "execute_result",
          "data": {
            "text/plain": [
              "True"
            ]
          },
          "metadata": {
            "tags": []
          },
          "execution_count": 21
        }
      ]
    },
    {
      "cell_type": "code",
      "metadata": {
        "id": "i5XTXXhgtjAF",
        "colab_type": "code",
        "colab": {}
      },
      "source": [
        "# 2. sys 모듈을 통해 처리하는 방법을 알아봅시다.\n",
        "# `epsilon` 은 부동소수점 연산에서 반올림을 함으로써 발생하는 오차 상환"
      ],
      "execution_count": null,
      "outputs": []
    },
    {
      "cell_type": "code",
      "metadata": {
        "id": "hvjgtEZ8tjAI",
        "colab_type": "code",
        "colab": {}
      },
      "source": [
        ""
      ],
      "execution_count": null,
      "outputs": []
    },
    {
      "cell_type": "code",
      "metadata": {
        "id": "X40gMuSztjAL",
        "colab_type": "code",
        "colab": {}
      },
      "source": [
        "# 3. python 3.5부터 활용 가능한 math 모듈을 통해 처리하는 법을 알아봅시다."
      ],
      "execution_count": null,
      "outputs": []
    },
    {
      "cell_type": "code",
      "metadata": {
        "id": "dmutqmSotjAS",
        "colab_type": "code",
        "colab": {
          "base_uri": "https://localhost:8080/",
          "height": 34
        },
        "outputId": "960c597d-238c-4a08-b577-8336811eb0e7"
      },
      "source": [
        "import math\n",
        "math.isclose(a,b)"
      ],
      "execution_count": 22,
      "outputs": [
        {
          "output_type": "execute_result",
          "data": {
            "text/plain": [
              "True"
            ]
          },
          "metadata": {
            "tags": []
          },
          "execution_count": 22
        }
      ]
    },
    {
      "cell_type": "markdown",
      "metadata": {
        "id": "zl3wQ1-etjAY",
        "colab_type": "text"
      },
      "source": [
        "### (3) `complex` (복소수, complex number)\n",
        "\n",
        "각각 실수로 표현되는 실수부와 허수부를 가집니다.\n",
        "\n",
        "복소수는 허수부를 `j`로 표현합니다."
      ]
    },
    {
      "cell_type": "code",
      "metadata": {
        "id": "6I3Ryi_StjAZ",
        "colab_type": "code",
        "colab": {}
      },
      "source": [
        "# 변수에 복소수를 넣고 해당 변수의 type을 알아봅시다."
      ],
      "execution_count": null,
      "outputs": []
    },
    {
      "cell_type": "code",
      "metadata": {
        "id": "pedGwatHtjAd",
        "colab_type": "code",
        "colab": {
          "base_uri": "https://localhost:8080/",
          "height": 34
        },
        "outputId": "1d4da986-0503-4a05-bba2-2c43fe34aa52"
      },
      "source": [
        "a = 3 + 4j\n",
        "type(a)"
      ],
      "execution_count": 23,
      "outputs": [
        {
          "output_type": "execute_result",
          "data": {
            "text/plain": [
              "complex"
            ]
          },
          "metadata": {
            "tags": []
          },
          "execution_count": 23
        }
      ]
    },
    {
      "cell_type": "code",
      "metadata": {
        "id": "gTZABVS4tjAh",
        "colab_type": "code",
        "colab": {}
      },
      "source": [
        "# 문자열을 복소수로 변환해봅시다."
      ],
      "execution_count": null,
      "outputs": []
    },
    {
      "cell_type": "code",
      "metadata": {
        "id": "-nH9v4DatjAp",
        "colab_type": "code",
        "colab": {
          "base_uri": "https://localhost:8080/",
          "height": 34
        },
        "outputId": "6686cea2-6547-483b-9664-162e33d0f453"
      },
      "source": [
        "b = complex(' 3+4j')\n",
        "type(b)"
      ],
      "execution_count": 25,
      "outputs": [
        {
          "output_type": "execute_result",
          "data": {
            "text/plain": [
              "complex"
            ]
          },
          "metadata": {
            "tags": []
          },
          "execution_count": 25
        }
      ]
    },
    {
      "cell_type": "code",
      "metadata": {
        "id": "GTqSoIkNtjAv",
        "colab_type": "code",
        "colab": {}
      },
      "source": [
        "# 문자열을 변환할 때, 문자열은 중앙의 + 또는 - 연산자 주위에 공백을 포함해서는 안 됩니다."
      ],
      "execution_count": null,
      "outputs": []
    },
    {
      "cell_type": "code",
      "metadata": {
        "id": "Kr2HEMlMtjAz",
        "colab_type": "code",
        "colab": {
          "base_uri": "https://localhost:8080/",
          "height": 186
        },
        "outputId": "55c1a52b-dc5e-4986-b347-188de4da9d06"
      },
      "source": [
        "b = complex(' 3 + 4j')\n",
        "type(b)"
      ],
      "execution_count": 26,
      "outputs": [
        {
          "output_type": "error",
          "ename": "ValueError",
          "evalue": "ignored",
          "traceback": [
            "\u001b[0;31m---------------------------------------------------------------------------\u001b[0m",
            "\u001b[0;31mValueError\u001b[0m                                Traceback (most recent call last)",
            "\u001b[0;32m<ipython-input-26-bb06d7bd321f>\u001b[0m in \u001b[0;36m<module>\u001b[0;34m()\u001b[0m\n\u001b[0;32m----> 1\u001b[0;31m \u001b[0mb\u001b[0m \u001b[0;34m=\u001b[0m \u001b[0mcomplex\u001b[0m\u001b[0;34m(\u001b[0m\u001b[0;34m' 3 + 4j'\u001b[0m\u001b[0;34m)\u001b[0m\u001b[0;34m\u001b[0m\u001b[0;34m\u001b[0m\u001b[0m\n\u001b[0m\u001b[1;32m      2\u001b[0m \u001b[0mtype\u001b[0m\u001b[0;34m(\u001b[0m\u001b[0mb\u001b[0m\u001b[0;34m)\u001b[0m\u001b[0;34m\u001b[0m\u001b[0;34m\u001b[0m\u001b[0m\n",
            "\u001b[0;31mValueError\u001b[0m: complex() arg is a malformed string"
          ]
        }
      ]
    },
    {
      "cell_type": "markdown",
      "metadata": {
        "id": "41jv3DK8tjA3",
        "colab_type": "text"
      },
      "source": [
        "## 문자(String) 타입\n",
        "\n",
        "### 기본 활용법\n",
        "\n",
        "* 문자열은 Single quotes(`'`)나 Double quotes(`\"`)을 활용하여 표현 가능하다.\n",
        "\n",
        "    - 작은따옴표: `'\"큰\" 따옴표를 담을 수 있습니다'`\n",
        "\n",
        "    - 큰따옴표: `\"'작은' 따옴표를 담을 수 있습니다\"`\n",
        "\n",
        "    - 삼중 따옴표: `'''세 개의 작은따옴표'''`, `\"\"\"세 개의 큰따옴표\"\"\"`\n",
        "\n",
        "\n",
        "* 단, 문자열을 묶을 때 동일한 문장부호를 활용해야하며, `PEP-8`에서는 **하나의 문장부호를 선택**하여 유지하도록 하고 있다. \n",
        "(Pick a rule and Stick to it)"
      ]
    },
    {
      "cell_type": "code",
      "metadata": {
        "id": "_GUe6ZGqtjA4",
        "colab_type": "code",
        "colab": {}
      },
      "source": [
        "# 변수에 문자열을 넣고 출력해봅시다."
      ],
      "execution_count": null,
      "outputs": []
    },
    {
      "cell_type": "code",
      "metadata": {
        "id": "_k9F9mM8tjBA",
        "colab_type": "code",
        "colab": {
          "base_uri": "https://localhost:8080/",
          "height": 34
        },
        "outputId": "8a57bafe-a4a5-4e62-a3b3-811e86370bc1"
      },
      "source": [
        "greeting = 'hello'\n",
        "type(greeting)"
      ],
      "execution_count": 28,
      "outputs": [
        {
          "output_type": "execute_result",
          "data": {
            "text/plain": [
              "str"
            ]
          },
          "metadata": {
            "tags": []
          },
          "execution_count": 28
        }
      ]
    },
    {
      "cell_type": "code",
      "metadata": {
        "id": "Bqw-wcnjtjBF",
        "colab_type": "code",
        "colab": {}
      },
      "source": [
        "# 사용자에게 받은 입력은 기본적으로 str입니다."
      ],
      "execution_count": null,
      "outputs": []
    },
    {
      "cell_type": "code",
      "metadata": {
        "id": "mfcYs5vytjBJ",
        "colab_type": "code",
        "colab": {
          "base_uri": "https://localhost:8080/",
          "height": 52
        },
        "outputId": "de2cc87a-66dc-4880-a3ec-a11e1b4a8f2f"
      },
      "source": [
        "number = input('숫자를 입력해 주세요 : ')\n",
        "type(number)\n",
        "print(number*2)"
      ],
      "execution_count": 30,
      "outputs": [
        {
          "output_type": "stream",
          "text": [
            "숫자를 입력해 주세요 : 10\n",
            "1010\n"
          ],
          "name": "stdout"
        }
      ]
    },
    {
      "cell_type": "markdown",
      "metadata": {
        "id": "SCtzRIfGtjBN",
        "colab_type": "text"
      },
      "source": [
        "#### 따옴표 사용\n",
        "\n",
        "문자열 안에 문장부호(`'`, `\"`)가 사용될 경우 이스케이프 문자(`\\`)를 활용 가능 합니다. "
      ]
    },
    {
      "cell_type": "code",
      "metadata": {
        "id": "rzYEBTAmtjBO",
        "colab_type": "code",
        "colab": {}
      },
      "source": [
        "# 문자열 안에 문장부호를 활용해서 오류를 확인해봅시다."
      ],
      "execution_count": null,
      "outputs": []
    },
    {
      "cell_type": "code",
      "metadata": {
        "id": "cQ0DmrfStjBU",
        "colab_type": "code",
        "colab": {
          "base_uri": "https://localhost:8080/",
          "height": 34
        },
        "outputId": "4afe8170-258a-4b21-e08a-eeef20425ace"
      },
      "source": [
        "\"he's cool\"\n",
        "\"그의 이름은 \\\"싸피\\\"였다\"\n",
        "#\\를 사용해서 \"\" 표현할 수 있다"
      ],
      "execution_count": 34,
      "outputs": [
        {
          "output_type": "execute_result",
          "data": {
            "application/vnd.google.colaboratory.intrinsic": {
              "type": "string"
            },
            "text/plain": [
              "'그의 이름은 \"싸피\"였다'"
            ]
          },
          "metadata": {
            "tags": []
          },
          "execution_count": 34
        }
      ]
    },
    {
      "cell_type": "code",
      "metadata": {
        "id": "dybs3pN3tjBZ",
        "colab_type": "code",
        "colab": {}
      },
      "source": [
        "# 오류를 이스케이프 문자와 서로 다른 문장부호를 통해 해결해봅시다."
      ],
      "execution_count": null,
      "outputs": []
    },
    {
      "cell_type": "code",
      "metadata": {
        "id": "j8wokqtBtjBd",
        "colab_type": "code",
        "colab": {}
      },
      "source": [
        ""
      ],
      "execution_count": null,
      "outputs": []
    },
    {
      "cell_type": "markdown",
      "metadata": {
        "id": "k6KAQooZtjBh",
        "colab_type": "text"
      },
      "source": [
        "여러줄에 걸쳐있는 문장은 다음과 같이 표현 가능합니다.\n",
        "\n",
        "* `PEP-8`에 따르면 이 경우에는 반드시 `\"\"\"`를 사용하도록 되어 있다."
      ]
    },
    {
      "cell_type": "code",
      "metadata": {
        "id": "uQBA1frQtjBi",
        "colab_type": "code",
        "colab": {}
      },
      "source": [
        "# 여러줄을 출력해봅시다."
      ],
      "execution_count": null,
      "outputs": []
    },
    {
      "cell_type": "code",
      "metadata": {
        "id": "akZKerovtjBp",
        "colab_type": "code",
        "colab": {
          "base_uri": "https://localhost:8080/",
          "height": 87
        },
        "outputId": "ca927ad1-b976-4b03-8802-43b6342421f4"
      },
      "source": [
        "print(\n",
        "    '''\n",
        "      이건 여러줄을 표현하는\n",
        "      방법입니다.\n",
        "    ''')"
      ],
      "execution_count": 38,
      "outputs": [
        {
          "output_type": "stream",
          "text": [
            "\n",
            "      이건 여러줄을 표현하는\n",
            "      방법입니다.\n",
            "    \n"
          ],
          "name": "stdout"
        }
      ]
    },
    {
      "cell_type": "code",
      "metadata": {
        "id": "1yy63efttjBu",
        "colab_type": "code",
        "colab": {}
      },
      "source": [
        "# 문자열은 + 연산자로 이어붙이고, * 연산자로 반복시킬 수 있습니다."
      ],
      "execution_count": null,
      "outputs": []
    },
    {
      "cell_type": "code",
      "metadata": {
        "id": "uosvh7NNtjBy",
        "colab_type": "code",
        "colab": {
          "base_uri": "https://localhost:8080/",
          "height": 34
        },
        "outputId": "4e8ccfad-92ff-4084-ff2a-1ca6fdcb0b55"
      },
      "source": [
        "#concatenation 문자열 연산\n",
        "#Interpolation 중간에 있는 문자열을 변환\n",
        "\n",
        "'hello' + 'ssafy'"
      ],
      "execution_count": 39,
      "outputs": [
        {
          "output_type": "execute_result",
          "data": {
            "application/vnd.google.colaboratory.intrinsic": {
              "type": "string"
            },
            "text/plain": [
              "'hellossafy'"
            ]
          },
          "metadata": {
            "tags": []
          },
          "execution_count": 39
        }
      ]
    },
    {
      "cell_type": "code",
      "metadata": {
        "id": "hH-2Ryf9tjB3",
        "colab_type": "code",
        "colab": {}
      },
      "source": [
        "# 변수화해서도 사용가능합니다."
      ],
      "execution_count": null,
      "outputs": []
    },
    {
      "cell_type": "code",
      "metadata": {
        "id": "ozzvHkNJtjB9",
        "colab_type": "code",
        "colab": {
          "base_uri": "https://localhost:8080/",
          "height": 34
        },
        "outputId": "d837c9ba-ea03-46f4-f555-59d6461757ce"
      },
      "source": [
        "name = 'Grey'\n",
        "\n",
        "'my name is ' + name"
      ],
      "execution_count": 40,
      "outputs": [
        {
          "output_type": "execute_result",
          "data": {
            "application/vnd.google.colaboratory.intrinsic": {
              "type": "string"
            },
            "text/plain": [
              "'my name is Grey'"
            ]
          },
          "metadata": {
            "tags": []
          },
          "execution_count": 40
        }
      ]
    },
    {
      "cell_type": "code",
      "metadata": {
        "id": "Dvv_qdtPtjCA",
        "colab_type": "code",
        "colab": {}
      },
      "source": [
        "# 두 개 이상의 문자열이 연속해서 나타나면 자동으로 이어 붙여집니다."
      ],
      "execution_count": null,
      "outputs": []
    },
    {
      "cell_type": "code",
      "metadata": {
        "id": "Ut1TFS_btjCE",
        "colab_type": "code",
        "colab": {
          "base_uri": "https://localhost:8080/",
          "height": 34
        },
        "outputId": "7656914f-bdc6-4b84-fd23-52af31aa2de4"
      },
      "source": [
        "'hello' 'ssafy'\n",
        "#python이 똑똑해서 묵시적으로 이런 표현들을 자동적으로 하기도 하지만 되도록이면 명확하게 사용하자"
      ],
      "execution_count": 41,
      "outputs": [
        {
          "output_type": "execute_result",
          "data": {
            "application/vnd.google.colaboratory.intrinsic": {
              "type": "string"
            },
            "text/plain": [
              "'hellossafy'"
            ]
          },
          "metadata": {
            "tags": []
          },
          "execution_count": 41
        }
      ]
    },
    {
      "cell_type": "markdown",
      "metadata": {
        "id": "i0EsxhUntjCH",
        "colab_type": "text"
      },
      "source": [
        "### 이스케이프 시퀀스\n",
        "\n",
        "문자열을 활용하는 경우 특수문자 혹은 조작을 하기 위하여 사용되는 것으로 `\\`를 활용하여 이를 구분합니다. \n",
        "\n",
        "|<center>예약문자</center>|내용(의미)|\n",
        "|:--------:|:--------:|\n",
        "|\\n|줄 바꿈|\n",
        "|\\t|탭|\n",
        "|\\r|캐리지리턴|\n",
        "|\\0|널(Null)|\n",
        "|\\\\\\\\ |`\\`|\n",
        "|\\\\'|단일인용부호(`'`)|\n",
        "|\\\\\"|이중인용부호(`\"`)|"
      ]
    },
    {
      "cell_type": "code",
      "metadata": {
        "id": "Pkckb11atjCI",
        "colab_type": "code",
        "colab": {}
      },
      "source": [
        "# 이스케이프 문자열을 조합하여 프린트해봅시다."
      ],
      "execution_count": null,
      "outputs": []
    },
    {
      "cell_type": "code",
      "metadata": {
        "id": "fprTEWkqtjCL",
        "colab_type": "code",
        "colab": {
          "base_uri": "https://localhost:8080/",
          "height": 69
        },
        "outputId": "f66bd0c6-2f68-4761-c4c7-8e441b079844"
      },
      "source": [
        "print(\"hello\\nmy name is\\nGrey\")"
      ],
      "execution_count": 44,
      "outputs": [
        {
          "output_type": "stream",
          "text": [
            "hello\n",
            "my name is\n",
            "Grey\n"
          ],
          "name": "stdout"
        }
      ]
    },
    {
      "cell_type": "code",
      "metadata": {
        "id": "jCgz6zlEtjCT",
        "colab_type": "code",
        "colab": {}
      },
      "source": [
        "# print를 하는 과정에서도 이스케이프 문자열을 활용 가능합니다."
      ],
      "execution_count": null,
      "outputs": []
    },
    {
      "cell_type": "code",
      "metadata": {
        "id": "dovxKRZltjCX",
        "colab_type": "code",
        "colab": {
          "base_uri": "https://localhost:8080/",
          "height": 52
        },
        "outputId": "6ba3d899-fb18-4e08-debf-6a1056570b38"
      },
      "source": [
        "print('\\\\-$ 환율')\n",
        "# \\\\ 사용하면 백슬러쉬 그 자체로 사용가능\n",
        "\n",
        "print(\"이건 \\\"python\\\" 입니다.\")"
      ],
      "execution_count": 48,
      "outputs": [
        {
          "output_type": "stream",
          "text": [
            "\\-$ 환율\n",
            "이건 \"python\" 입니다.\n"
          ],
          "name": "stdout"
        }
      ]
    },
    {
      "cell_type": "code",
      "metadata": {
        "id": "y15q_mxstjCc",
        "colab_type": "code",
        "colab": {}
      },
      "source": [
        "# 물론, end 옵션은 이스케이프 문자열이 아닌 다른 것도 가능합니다."
      ],
      "execution_count": null,
      "outputs": []
    },
    {
      "cell_type": "code",
      "metadata": {
        "id": "Y8VZatHptjCf",
        "colab_type": "code",
        "colab": {
          "base_uri": "https://localhost:8080/",
          "height": 34
        },
        "outputId": "1316142c-9dec-4a99-ad2e-1121e15ed904"
      },
      "source": [
        "print(\"ssafy\", end=\" \")\n",
        "print(\"hello\")"
      ],
      "execution_count": 52,
      "outputs": [
        {
          "output_type": "stream",
          "text": [
            "ssafy hello\n"
          ],
          "name": "stdout"
        }
      ]
    },
    {
      "cell_type": "markdown",
      "metadata": {
        "id": "7JBR5XpQtjCk",
        "colab_type": "text"
      },
      "source": [
        "### String interpolation \n",
        "\n",
        "* `%-formatting` \n",
        "\n",
        "* [`str.format()` ](https://pyformat.info/)\n",
        "\n",
        "* [`f-strings`](https://www.python.org/dev/peps/pep-0498/) : 파이썬 3.6 이후 버전에서 지원"
      ]
    },
    {
      "cell_type": "code",
      "metadata": {
        "id": "GT1WLuK3tjCk",
        "colab_type": "code",
        "colab": {}
      },
      "source": [
        "# name 변수에 이름을 입력해봅시다."
      ],
      "execution_count": null,
      "outputs": []
    },
    {
      "cell_type": "code",
      "metadata": {
        "id": "-8gKmO9rtjCq",
        "colab_type": "code",
        "colab": {}
      },
      "source": [
        "name = 'Grey'"
      ],
      "execution_count": null,
      "outputs": []
    },
    {
      "cell_type": "code",
      "metadata": {
        "id": "Kxd0cTNrtjCx",
        "colab_type": "code",
        "colab": {}
      },
      "source": [
        "# %-formatting을 활용해봅시다."
      ],
      "execution_count": null,
      "outputs": []
    },
    {
      "cell_type": "code",
      "metadata": {
        "id": "SnGuPVPKtjC1",
        "colab_type": "code",
        "colab": {
          "base_uri": "https://localhost:8080/",
          "height": 34
        },
        "outputId": "933a5c6c-8bd9-4665-b0c7-dbbc57135412"
      },
      "source": [
        "print('내 이름은 %s' % name)"
      ],
      "execution_count": 56,
      "outputs": [
        {
          "output_type": "stream",
          "text": [
            "내 이름은 Grey\n"
          ],
          "name": "stdout"
        }
      ]
    },
    {
      "cell_type": "code",
      "metadata": {
        "id": "mtHCwm5FtjC-",
        "colab_type": "code",
        "colab": {}
      },
      "source": [
        "# str.format()을 활용해봅시다."
      ],
      "execution_count": null,
      "outputs": []
    },
    {
      "cell_type": "code",
      "metadata": {
        "id": "Ge2snaRztjDE",
        "colab_type": "code",
        "colab": {
          "base_uri": "https://localhost:8080/",
          "height": 34
        },
        "outputId": "e6a39b98-aafc-49ba-c817-f4215f5fef5a"
      },
      "source": [
        "print('내 이름은 {} 입니다.'.format(name))"
      ],
      "execution_count": 57,
      "outputs": [
        {
          "output_type": "stream",
          "text": [
            "내 이름은 Grey 입니다.\n"
          ],
          "name": "stdout"
        }
      ]
    },
    {
      "cell_type": "code",
      "metadata": {
        "id": "0eVVzBc2tjDH",
        "colab_type": "code",
        "colab": {}
      },
      "source": [
        "# f-string을 활용해봅시다."
      ],
      "execution_count": null,
      "outputs": []
    },
    {
      "cell_type": "code",
      "metadata": {
        "id": "9jIto5LDtjDL",
        "colab_type": "code",
        "colab": {
          "base_uri": "https://localhost:8080/",
          "height": 34
        },
        "outputId": "20d16b2c-f31a-4008-89d6-af9dd5cc8c04"
      },
      "source": [
        "print(f'내 이름은 {name}입니다.')"
      ],
      "execution_count": 58,
      "outputs": [
        {
          "output_type": "stream",
          "text": [
            "내 이름은 Grey입니다.\n"
          ],
          "name": "stdout"
        }
      ]
    },
    {
      "cell_type": "code",
      "metadata": {
        "id": "7r-dCpOztjDU",
        "colab_type": "code",
        "colab": {}
      },
      "source": [
        "# 여러줄 문자열에서도 사용 가능합니다."
      ],
      "execution_count": null,
      "outputs": []
    },
    {
      "cell_type": "code",
      "metadata": {
        "id": "tkDU3NOptjDZ",
        "colab_type": "code",
        "colab": {}
      },
      "source": [
        ""
      ],
      "execution_count": null,
      "outputs": []
    },
    {
      "cell_type": "markdown",
      "metadata": {
        "id": "4vTETPBItjDd",
        "colab_type": "text"
      },
      "source": [
        "* f-strings에서는 형식을 지정할 수 있다."
      ]
    },
    {
      "cell_type": "code",
      "metadata": {
        "id": "HTp-Bm47tjDd",
        "colab_type": "code",
        "colab": {}
      },
      "source": [
        "# 다양한 형식을 활용하기 위해 datetime 모듈로 오늘을 표현해봅시다."
      ],
      "execution_count": null,
      "outputs": []
    },
    {
      "cell_type": "code",
      "metadata": {
        "id": "WqA2GFQitjDf",
        "colab_type": "code",
        "colab": {
          "base_uri": "https://localhost:8080/",
          "height": 34
        },
        "outputId": "a408cf4a-34b1-497c-8cd8-489a402a7865"
      },
      "source": [
        "import datetime\n",
        "now = datetime.datetime.now()\n",
        "print(now)"
      ],
      "execution_count": 60,
      "outputs": [
        {
          "output_type": "stream",
          "text": [
            "2020-07-20 02:22:55.944896\n"
          ],
          "name": "stdout"
        }
      ]
    },
    {
      "cell_type": "code",
      "metadata": {
        "id": "1F6hxY1XtjDl",
        "colab_type": "code",
        "colab": {}
      },
      "source": [
        "# interpolation에서 출력형식을 지정할 수 있습니다."
      ],
      "execution_count": null,
      "outputs": []
    },
    {
      "cell_type": "code",
      "metadata": {
        "id": "72j3se9ftjDp",
        "colab_type": "code",
        "colab": {
          "base_uri": "https://localhost:8080/",
          "height": 34
        },
        "outputId": "dad7135b-4878-468e-9799-4995fcc88808"
      },
      "source": [
        "now.today()\n",
        "print(f'올해는 {now:%Y} 이번달은 {now:%m}월 오늘은 {now : %d}일')"
      ],
      "execution_count": 66,
      "outputs": [
        {
          "output_type": "stream",
          "text": [
            "올해는 2020 이번달은 07월 오늘은  20일\n"
          ],
          "name": "stdout"
        }
      ]
    },
    {
      "cell_type": "markdown",
      "metadata": {
        "id": "j0Y14xlytjDt",
        "colab_type": "text"
      },
      "source": [
        "* f-strings에서는 연산과 출력형식 지정도 가능하다."
      ]
    },
    {
      "cell_type": "code",
      "metadata": {
        "id": "DAuD8WQutjDt",
        "colab_type": "code",
        "colab": {}
      },
      "source": [
        "# string interpolation을 통해 출력형식 지정 뿐만 아니라, 연산도 가능합니다."
      ],
      "execution_count": null,
      "outputs": []
    },
    {
      "cell_type": "code",
      "metadata": {
        "id": "4ZwaXD13tjD5",
        "colab_type": "code",
        "colab": {
          "base_uri": "https://localhost:8080/",
          "height": 34
        },
        "outputId": "506d08ff-5e50-4589-e764-3edc0189352e"
      },
      "source": [
        "pi = 3.141592\n",
        "r=10\n",
        "print(f'{pi:.3} 넓이는 {pi*r*r}')"
      ],
      "execution_count": 72,
      "outputs": [
        {
          "output_type": "stream",
          "text": [
            "3.14 넓이는 314.1592\n"
          ],
          "name": "stdout"
        }
      ]
    },
    {
      "cell_type": "markdown",
      "metadata": {
        "id": "Wz2jmv3ZtjD9",
        "colab_type": "text"
      },
      "source": [
        "## 참/거짓(Boolean) 타입\n",
        "\n",
        "파이썬에는 `True`와 `False`로 이뤄진 `bool` 타입이 있습니다.\n",
        "\n",
        "비교/논리 연산을 수행 등에서 활용됩니다.\n",
        "\n",
        "다음은 `False`로 변환됩니다.\n",
        "```\n",
        "0, 0.0, (), [], {}, '', None\n",
        "```"
      ]
    },
    {
      "cell_type": "code",
      "metadata": {
        "id": "b6ZVMOHFtjD9",
        "colab_type": "code",
        "colab": {}
      },
      "source": [
        "# True와 False의 타입들을 알아봅시다."
      ],
      "execution_count": null,
      "outputs": []
    },
    {
      "cell_type": "code",
      "metadata": {
        "id": "mHOadrDstjEE",
        "colab_type": "code",
        "colab": {}
      },
      "source": [
        ""
      ],
      "execution_count": null,
      "outputs": []
    },
    {
      "cell_type": "code",
      "metadata": {
        "id": "mRYI9xxwtjEJ",
        "colab_type": "code",
        "colab": {}
      },
      "source": [
        "# 다양한 True, False 상황들을 확인해봅시다.\n",
        "# 형변환(Type Conversion)에서 추가적으로 다루는 내용입니다."
      ],
      "execution_count": null,
      "outputs": []
    },
    {
      "cell_type": "code",
      "metadata": {
        "id": "QlYaXFoxtjEQ",
        "colab_type": "code",
        "colab": {}
      },
      "source": [
        ""
      ],
      "execution_count": null,
      "outputs": []
    },
    {
      "cell_type": "markdown",
      "metadata": {
        "id": "KAwk6lLXtjEV",
        "colab_type": "text"
      },
      "source": [
        "### `None` 타입\n",
        "\n",
        "파이썬에서는 값이 없음을 표현하기 위해 `None` 타입이 존재합니다."
      ]
    },
    {
      "cell_type": "code",
      "metadata": {
        "id": "m8UDCcbJtjEV",
        "colab_type": "code",
        "colab": {}
      },
      "source": [
        "# None의 타입을 알아봅시다."
      ],
      "execution_count": null,
      "outputs": []
    },
    {
      "cell_type": "code",
      "metadata": {
        "id": "5QTVQzGvtjEZ",
        "colab_type": "code",
        "colab": {}
      },
      "source": [
        ""
      ],
      "execution_count": null,
      "outputs": []
    },
    {
      "cell_type": "code",
      "metadata": {
        "id": "4c-f0pMgtjEc",
        "colab_type": "code",
        "colab": {}
      },
      "source": [
        "# 변수에 저장해서 확인해봅시다."
      ],
      "execution_count": null,
      "outputs": []
    },
    {
      "cell_type": "code",
      "metadata": {
        "id": "mjEDIGfltjEi",
        "colab_type": "code",
        "colab": {}
      },
      "source": [
        ""
      ],
      "execution_count": null,
      "outputs": []
    },
    {
      "cell_type": "markdown",
      "metadata": {
        "id": "125KVNFltjEk",
        "colab_type": "text"
      },
      "source": [
        "## 형변환(Type conversion, Typecasting)\n",
        "\n",
        "파이썬에서 데이터타입은 서로 변환할 수 있습니다.\n",
        "\n",
        "- 암시적 형변환\n",
        "- 명시적 형변환"
      ]
    },
    {
      "cell_type": "markdown",
      "metadata": {
        "id": "KKWO-hZAtjEk",
        "colab_type": "text"
      },
      "source": [
        "### 암시적 형변환(Implicit Type Conversion)\n",
        "\n",
        "사용자가 의도하지 않았지만, 파이썬 내부적으로 자동으로 형변환 하는 경우입니다.\n",
        "아래의 상황에서만 가능합니다.\n",
        "* bool\n",
        "* Numbers (int, float, complex)"
      ]
    },
    {
      "cell_type": "code",
      "metadata": {
        "id": "qDJ54dt1tjEk",
        "colab_type": "code",
        "colab": {}
      },
      "source": [
        "# boolean과 integer는 더할 수 있을까요?"
      ],
      "execution_count": null,
      "outputs": []
    },
    {
      "cell_type": "code",
      "metadata": {
        "id": "OL6uuhJBtjEn",
        "colab_type": "code",
        "colab": {}
      },
      "source": [
        ""
      ],
      "execution_count": null,
      "outputs": []
    },
    {
      "cell_type": "code",
      "metadata": {
        "id": "z7SHb3djtjEr",
        "colab_type": "code",
        "colab": {}
      },
      "source": [
        "# int, float, complex를 각각 변수에 대입해봅시다."
      ],
      "execution_count": null,
      "outputs": []
    },
    {
      "cell_type": "code",
      "metadata": {
        "id": "5-WgbfECtjEv",
        "colab_type": "code",
        "colab": {}
      },
      "source": [
        ""
      ],
      "execution_count": null,
      "outputs": []
    },
    {
      "cell_type": "code",
      "metadata": {
        "id": "Mk7VgmABtjE3",
        "colab_type": "code",
        "colab": {}
      },
      "source": [
        "# int와 float를 더해봅시다. 그 결과의 type은 무엇일까요?"
      ],
      "execution_count": null,
      "outputs": []
    },
    {
      "cell_type": "code",
      "metadata": {
        "id": "mSNAnPS1tjE5",
        "colab_type": "code",
        "colab": {}
      },
      "source": [
        ""
      ],
      "execution_count": null,
      "outputs": []
    },
    {
      "cell_type": "code",
      "metadata": {
        "id": "bYEvhfQOtjE_",
        "colab_type": "code",
        "colab": {}
      },
      "source": [
        "# int와 complex를 더해봅시다. 그 결과의 type은 무엇일까요?"
      ],
      "execution_count": null,
      "outputs": []
    },
    {
      "cell_type": "code",
      "metadata": {
        "id": "T3jcFQNatjFC",
        "colab_type": "code",
        "colab": {}
      },
      "source": [
        ""
      ],
      "execution_count": null,
      "outputs": []
    },
    {
      "cell_type": "markdown",
      "metadata": {
        "id": "cr7GKFCLtjFF",
        "colab_type": "text"
      },
      "source": [
        "### 명시적 형변환(Explicit Type Conversion)\n",
        "위의 상황을 제외하고는 모두 명시적으로 형 변환을 해주어야합니다.\n",
        "\n",
        "* string -> intger  : 형식에 맞는 숫자만 가능\n",
        "* integer -> string : 모두 가능\n",
        "\n",
        "암시적 형변환이 되는 모든 경우도 명시적으로 형변환이 가능합니다.\n",
        "\n",
        "* `int()` : string, float를 int로 변환\n",
        "* `float()` : string, int를 float로 변환\n",
        "* `str()` : int, float, list, tuple, dictionary를 문자열로 변환\n",
        "\n",
        "`list()`, `tuple()` 등은 다음 챕터에서 배울 예정입니다."
      ]
    },
    {
      "cell_type": "code",
      "metadata": {
        "id": "ji9H0PO3tjFF",
        "colab_type": "code",
        "colab": {}
      },
      "source": [
        "# integer와 string 사이의 관계는 명시적으로 형변환을 해줘야만 합니다."
      ],
      "execution_count": null,
      "outputs": []
    },
    {
      "cell_type": "code",
      "metadata": {
        "id": "CaiutzustjFL",
        "colab_type": "code",
        "colab": {}
      },
      "source": [
        ""
      ],
      "execution_count": null,
      "outputs": []
    },
    {
      "cell_type": "code",
      "metadata": {
        "id": "NCFUDEyftjFO",
        "colab_type": "code",
        "colab": {}
      },
      "source": [
        "# string 3을 integer로 변환해봅시다."
      ],
      "execution_count": null,
      "outputs": []
    },
    {
      "cell_type": "code",
      "metadata": {
        "id": "j1LSETwdtjFS",
        "colab_type": "code",
        "colab": {}
      },
      "source": [
        ""
      ],
      "execution_count": null,
      "outputs": []
    },
    {
      "cell_type": "code",
      "metadata": {
        "id": "luHeyCNCtjFa",
        "colab_type": "code",
        "colab": {}
      },
      "source": [
        "# string 3.5를 float로 변환해봅시다."
      ],
      "execution_count": null,
      "outputs": []
    },
    {
      "cell_type": "code",
      "metadata": {
        "id": "Gv4fh3ZdtjFc",
        "colab_type": "code",
        "colab": {}
      },
      "source": [
        ""
      ],
      "execution_count": null,
      "outputs": []
    },
    {
      "cell_type": "code",
      "metadata": {
        "id": "5Om4iYaWtjFk",
        "colab_type": "code",
        "colab": {}
      },
      "source": [
        "# string은 글자가 숫자일때만 형변환이 가능합니다."
      ],
      "execution_count": null,
      "outputs": []
    },
    {
      "cell_type": "code",
      "metadata": {
        "id": "_ih39_KUtjFn",
        "colab_type": "code",
        "colab": {}
      },
      "source": [
        ""
      ],
      "execution_count": null,
      "outputs": []
    },
    {
      "cell_type": "code",
      "metadata": {
        "id": "TZ5Sxu8wtjFq",
        "colab_type": "code",
        "colab": {}
      },
      "source": [
        "# string 3.5를 int로 변환할 수는 없습니다."
      ],
      "execution_count": null,
      "outputs": []
    },
    {
      "cell_type": "code",
      "metadata": {
        "id": "erFbJ8GItjFs",
        "colab_type": "code",
        "colab": {}
      },
      "source": [
        ""
      ],
      "execution_count": null,
      "outputs": []
    },
    {
      "cell_type": "code",
      "metadata": {
        "id": "tRwkxc7VtjFw",
        "colab_type": "code",
        "colab": {}
      },
      "source": [
        "# float 3.5는 int로 변환이 가능합니다."
      ],
      "execution_count": null,
      "outputs": []
    },
    {
      "cell_type": "code",
      "metadata": {
        "id": "qH6SM9ahtjF2",
        "colab_type": "code",
        "colab": {}
      },
      "source": [
        ""
      ],
      "execution_count": null,
      "outputs": []
    },
    {
      "cell_type": "markdown",
      "metadata": {
        "id": "1uM_kvHytjF5",
        "colab_type": "text"
      },
      "source": [
        "# 연산자(Operator)\n",
        "\n",
        "- 산술 연산자\n",
        "- 비교 연산자\n",
        "- 논리 연산자\n",
        "- 복합 연산자\n",
        "- 기타 연산자"
      ]
    },
    {
      "cell_type": "markdown",
      "metadata": {
        "id": "Nq0YOfnAtjF5",
        "colab_type": "text"
      },
      "source": [
        "## 산술 연산자\n",
        "Python에서는 기본적인 사칙연산이 가능합니다. \n",
        "\n",
        "|연산자|내용|\n",
        "|----|---|\n",
        "|+|덧셈|\n",
        "|-|뺄셈|\n",
        "|\\*|곱셈|\n",
        "|/|나눗셈|\n",
        "|//|몫|\n",
        "|%|나머지(modulo)|\n",
        "|\\*\\*|거듭제곱|\n",
        "\n",
        "- 나눗셈 (`/`) 은 항상 float를 돌려준다.\n",
        "- 정수 나눗셈 으로 (소수부 없이) 정수 결과를 얻으려면 `//` 연산자를 사용한다.\n"
      ]
    },
    {
      "cell_type": "code",
      "metadata": {
        "id": "rJER5pGGtjF6",
        "colab_type": "code",
        "colab": {}
      },
      "source": [
        "# 2의 1000승을 확인해봅시다."
      ],
      "execution_count": null,
      "outputs": []
    },
    {
      "cell_type": "code",
      "metadata": {
        "id": "uaqbg44EtjF_",
        "colab_type": "code",
        "colab": {}
      },
      "source": [
        ""
      ],
      "execution_count": null,
      "outputs": []
    },
    {
      "cell_type": "code",
      "metadata": {
        "id": "6i2q7FsctjGC",
        "colab_type": "code",
        "colab": {}
      },
      "source": [
        "# 나눗셈과 관련된 산술연산자를 활용해봅시다."
      ],
      "execution_count": null,
      "outputs": []
    },
    {
      "cell_type": "code",
      "metadata": {
        "id": "ydUyxcCjtjGF",
        "colab_type": "code",
        "colab": {}
      },
      "source": [
        ""
      ],
      "execution_count": null,
      "outputs": []
    },
    {
      "cell_type": "code",
      "metadata": {
        "id": "c3pGu-ZItjGJ",
        "colab_type": "code",
        "colab": {}
      },
      "source": [
        "# divmod는 나눗셈과 관련된 함수입니다."
      ],
      "execution_count": null,
      "outputs": []
    },
    {
      "cell_type": "code",
      "metadata": {
        "id": "Qzj5WfH-tjGQ",
        "colab_type": "code",
        "colab": {}
      },
      "source": [
        ""
      ],
      "execution_count": null,
      "outputs": []
    },
    {
      "cell_type": "code",
      "metadata": {
        "id": "r-j6HaoztjGV",
        "colab_type": "code",
        "colab": {}
      },
      "source": [
        "# 음수 양수 표현도 해봅시다."
      ],
      "execution_count": null,
      "outputs": []
    },
    {
      "cell_type": "code",
      "metadata": {
        "id": "IClio0F3tjGZ",
        "colab_type": "code",
        "colab": {}
      },
      "source": [
        ""
      ],
      "execution_count": null,
      "outputs": []
    },
    {
      "cell_type": "markdown",
      "metadata": {
        "id": "3cfJ0wIbtjGe",
        "colab_type": "text"
      },
      "source": [
        "## 비교 연산자\n",
        "\n",
        "우리가 수학에서 배운 연산자와 동일하게 값을 비교할 수 있습니다.\n",
        "\n",
        "|연산자|내용|\n",
        "|----|---|\n",
        "|`<`|미만|\n",
        "|`<=`|이하|\n",
        "|`>`|초과|\n",
        "|`>=`|이상|\n",
        "|`==`|같음|\n",
        "|`!=`|같지않음|\n",
        "|`is`|객체 아이덴티티|\n",
        "|`is not`|부정된 객체 아이덴티티|\n"
      ]
    },
    {
      "cell_type": "code",
      "metadata": {
        "id": "hT3_fC9qtjGf",
        "colab_type": "code",
        "colab": {}
      },
      "source": [
        "# 숫자의 대소관계를 비교해봅시다."
      ],
      "execution_count": null,
      "outputs": []
    },
    {
      "cell_type": "code",
      "metadata": {
        "id": "a6zxmT22tjGj",
        "colab_type": "code",
        "colab": {}
      },
      "source": [
        ""
      ],
      "execution_count": null,
      "outputs": []
    },
    {
      "cell_type": "code",
      "metadata": {
        "id": "ezQrybZHtjGm",
        "colab_type": "code",
        "colab": {}
      },
      "source": [
        "# 다른 숫자인지 확인해봅시다."
      ],
      "execution_count": null,
      "outputs": []
    },
    {
      "cell_type": "code",
      "metadata": {
        "id": "YqVMjw54tjGp",
        "colab_type": "code",
        "colab": {}
      },
      "source": [
        ""
      ],
      "execution_count": null,
      "outputs": []
    },
    {
      "cell_type": "code",
      "metadata": {
        "id": "Q88kMOMttjGr",
        "colab_type": "code",
        "colab": {}
      },
      "source": [
        "# 같은 숫자인지 확인해봅시다."
      ],
      "execution_count": null,
      "outputs": []
    },
    {
      "cell_type": "code",
      "metadata": {
        "id": "T6UoYBLItjGu",
        "colab_type": "code",
        "colab": {}
      },
      "source": [
        ""
      ],
      "execution_count": null,
      "outputs": []
    },
    {
      "cell_type": "code",
      "metadata": {
        "id": "Sxx8g6f2tjGy",
        "colab_type": "code",
        "colab": {}
      },
      "source": [
        "# 문자열도 같은지 확인해봅시다."
      ],
      "execution_count": null,
      "outputs": []
    },
    {
      "cell_type": "code",
      "metadata": {
        "id": "7wFxXJovtjG6",
        "colab_type": "code",
        "colab": {}
      },
      "source": [
        ""
      ],
      "execution_count": null,
      "outputs": []
    },
    {
      "cell_type": "markdown",
      "metadata": {
        "id": "3FXB5SA_tjG-",
        "colab_type": "text"
      },
      "source": [
        "## 논리 연산자\n",
        "\n",
        "|연산자|내용|\n",
        "|---|---|\n",
        "|a and b|a와 b 모두 True시만 True|\n",
        "|a or b|a 와 b 모두 False시만 False|\n",
        "|not a|True -> False, False -> True|\n",
        "\n",
        "우리가 보통 알고 있는 `&` `|`은 파이썬에서 비트 연산자입니다."
      ]
    },
    {
      "cell_type": "code",
      "metadata": {
        "id": "wCbiT71mtjG_",
        "colab_type": "code",
        "colab": {}
      },
      "source": [
        "# and과 관련해서 모든 case를 출력해봅시다."
      ],
      "execution_count": null,
      "outputs": []
    },
    {
      "cell_type": "code",
      "metadata": {
        "id": "WKYsaWqZtjHC",
        "colab_type": "code",
        "colab": {}
      },
      "source": [
        ""
      ],
      "execution_count": null,
      "outputs": []
    },
    {
      "cell_type": "code",
      "metadata": {
        "id": "8PhLJf4EtjHI",
        "colab_type": "code",
        "colab": {}
      },
      "source": [
        "# or과 관련해서 모든 case를 출력해봅시다."
      ],
      "execution_count": null,
      "outputs": []
    },
    {
      "cell_type": "code",
      "metadata": {
        "id": "xjCwSK1qtjHL",
        "colab_type": "code",
        "colab": {}
      },
      "source": [
        ""
      ],
      "execution_count": null,
      "outputs": []
    },
    {
      "cell_type": "code",
      "metadata": {
        "id": "wrfRDvxftjHM",
        "colab_type": "code",
        "colab": {}
      },
      "source": [
        "# not을 활용해봅시다."
      ],
      "execution_count": null,
      "outputs": []
    },
    {
      "cell_type": "code",
      "metadata": {
        "id": "FBC7RIZatjHO",
        "colab_type": "code",
        "colab": {}
      },
      "source": [
        ""
      ],
      "execution_count": null,
      "outputs": []
    },
    {
      "cell_type": "markdown",
      "metadata": {
        "id": "0sickO2ptjHW",
        "colab_type": "text"
      },
      "source": [
        "* 파이썬에서 and는 a가 거짓이면 a를 리턴하고, 참이면 b를 리턴한다.\n",
        "* 파이썬에서 or은 a가 참이면 a를 리턴하고, 거짓이면 b를 리턴한다."
      ]
    },
    {
      "cell_type": "markdown",
      "metadata": {
        "id": "6qSB1cVYtjHW",
        "colab_type": "text"
      },
      "source": [
        "### 단축평가\n",
        "* 첫 번째 값이 확실할 때, 두 번째 값은 확인 하지 않음\n",
        "* 조건문에서 뒷 부분을 판단하지 않아도 되기 때문에 속도 향상"
      ]
    },
    {
      "cell_type": "code",
      "metadata": {
        "id": "ipkBgGM0tjHX",
        "colab_type": "code",
        "colab": {}
      },
      "source": [
        "vowels = 'aeiou'"
      ],
      "execution_count": null,
      "outputs": []
    },
    {
      "cell_type": "code",
      "metadata": {
        "scrolled": false,
        "id": "VeJLFYd_tjHZ",
        "colab_type": "code",
        "colab": {}
      },
      "source": [
        ""
      ],
      "execution_count": null,
      "outputs": []
    },
    {
      "cell_type": "code",
      "metadata": {
        "scrolled": false,
        "id": "UfbaCSpWtjHg",
        "colab_type": "code",
        "colab": {}
      },
      "source": [
        ""
      ],
      "execution_count": null,
      "outputs": []
    },
    {
      "cell_type": "code",
      "metadata": {
        "id": "iDq5q_QgtjHi",
        "colab_type": "code",
        "colab": {}
      },
      "source": [
        ""
      ],
      "execution_count": null,
      "outputs": []
    },
    {
      "cell_type": "code",
      "metadata": {
        "id": "8ceN4fEXtjHk",
        "colab_type": "code",
        "colab": {}
      },
      "source": [
        ""
      ],
      "execution_count": null,
      "outputs": []
    },
    {
      "cell_type": "markdown",
      "metadata": {
        "id": "Iqo4Q743tjHn",
        "colab_type": "text"
      },
      "source": [
        "- `and` 는 둘 다 True일 경우만 True이기 때문에 첫번째 값이 True라도 두번째 값을 확인해야 하기 때문에 'b'가 반환된다.\n",
        "- `or` 는 하나만 True라도 True이기 때문에 True를 만나면 해당 값을 바로 반환한다."
      ]
    },
    {
      "cell_type": "code",
      "metadata": {
        "id": "_2fVdABWtjHn",
        "colab_type": "code",
        "colab": {}
      },
      "source": [
        "# and의 단축평가(short-circuit evaluation)에 대해서 알아봅시다."
      ],
      "execution_count": null,
      "outputs": []
    },
    {
      "cell_type": "code",
      "metadata": {
        "id": "Y8H0Ev_dtjHp",
        "colab_type": "code",
        "colab": {}
      },
      "source": [
        ""
      ],
      "execution_count": null,
      "outputs": []
    },
    {
      "cell_type": "code",
      "metadata": {
        "id": "6Z3lNncCtjHq",
        "colab_type": "code",
        "colab": {}
      },
      "source": [
        "# or의 단축평가(short-circuit evaluation)에 대해서 알아봅시다."
      ],
      "execution_count": null,
      "outputs": []
    },
    {
      "cell_type": "code",
      "metadata": {
        "id": "W-8zh9w8tjHt",
        "colab_type": "code",
        "colab": {}
      },
      "source": [
        ""
      ],
      "execution_count": null,
      "outputs": []
    },
    {
      "cell_type": "markdown",
      "metadata": {
        "id": "qHV0EIb3tjHy",
        "colab_type": "text"
      },
      "source": [
        "## 복합 연산자\n",
        "\n",
        "복합 연산자는 연산과 대입이 함께 이뤄집니다. \n",
        "\n",
        "가장 많이 활용되는 경우는 반복문을 통해서 개수를 카운트하거나 할 때 활용됩니다.\n",
        "\n",
        "|연산자|내용|\n",
        "|----|---|\n",
        "|a += b|a = a + b|\n",
        "|a -= b|a = a - b|\n",
        "|a \\*= b|a = a \\* b|\n",
        "|a /= b|a = a / b|\n",
        "|a //= b|a = a // b|\n",
        "|a %= b|a = a % b|\n",
        "|a \\*\\*= b|a = a ** b|"
      ]
    },
    {
      "cell_type": "code",
      "metadata": {
        "id": "RcpBpuiBtjHy",
        "colab_type": "code",
        "colab": {}
      },
      "source": [
        "# 복합연산자는 이럴 때 사용됩니다."
      ],
      "execution_count": null,
      "outputs": []
    },
    {
      "cell_type": "code",
      "metadata": {
        "id": "QE3bQNRjtjH1",
        "colab_type": "code",
        "colab": {}
      },
      "source": [
        ""
      ],
      "execution_count": null,
      "outputs": []
    },
    {
      "cell_type": "markdown",
      "metadata": {
        "id": "CI85YlaMtjH3",
        "colab_type": "text"
      },
      "source": [
        "## 기타 주요 연산자\n",
        "\n",
        "### Concatenation\n",
        "\n",
        "숫자가 아닌 자료형은 `+` 연산자를 통해 합칠 수 있습니다."
      ]
    },
    {
      "cell_type": "code",
      "metadata": {
        "id": "QZVThXQ8tjH4",
        "colab_type": "code",
        "colab": {}
      },
      "source": [
        "# 문자열을 더해봅시다.(합쳐봅시다.)"
      ],
      "execution_count": null,
      "outputs": []
    },
    {
      "cell_type": "code",
      "metadata": {
        "id": "Pn3ycal9tjH7",
        "colab_type": "code",
        "colab": {}
      },
      "source": [
        ""
      ],
      "execution_count": null,
      "outputs": []
    },
    {
      "cell_type": "code",
      "metadata": {
        "id": "inAP_0SQtjH-",
        "colab_type": "code",
        "colab": {}
      },
      "source": [
        "# list를 더해봅시다.(합쳐봅시다.)"
      ],
      "execution_count": null,
      "outputs": []
    },
    {
      "cell_type": "code",
      "metadata": {
        "id": "C-Pj-SZptjIN",
        "colab_type": "code",
        "colab": {}
      },
      "source": [
        ""
      ],
      "execution_count": null,
      "outputs": []
    },
    {
      "cell_type": "markdown",
      "metadata": {
        "id": "hxCI2JkBtjIQ",
        "colab_type": "text"
      },
      "source": [
        "### Containment Test\n",
        "\n",
        "`in` 연산자를 통해 요소가 속해있는지 여부를 확인할 수 있습니다."
      ]
    },
    {
      "cell_type": "code",
      "metadata": {
        "id": "WXvlamQPtjIQ",
        "colab_type": "code",
        "colab": {}
      },
      "source": [
        "# 문자열안에 특정한 문자가 있는지 확인해봅시다."
      ],
      "execution_count": null,
      "outputs": []
    },
    {
      "cell_type": "code",
      "metadata": {
        "id": "sec3MWR6tjIV",
        "colab_type": "code",
        "colab": {}
      },
      "source": [
        ""
      ],
      "execution_count": null,
      "outputs": []
    },
    {
      "cell_type": "code",
      "metadata": {
        "id": "s4BMddndtjIa",
        "colab_type": "code",
        "colab": {}
      },
      "source": [
        "# list안에 특정한 원소가 있는지 확인해봅시다."
      ],
      "execution_count": null,
      "outputs": []
    },
    {
      "cell_type": "code",
      "metadata": {
        "id": "V54POrXutjId",
        "colab_type": "code",
        "colab": {}
      },
      "source": [
        ""
      ],
      "execution_count": null,
      "outputs": []
    },
    {
      "cell_type": "code",
      "metadata": {
        "id": "63Wz1PoqtjIk",
        "colab_type": "code",
        "colab": {}
      },
      "source": [
        "# range안에 특정한 원소가 있는지 확인해봅시다."
      ],
      "execution_count": null,
      "outputs": []
    },
    {
      "cell_type": "code",
      "metadata": {
        "id": "F6FPvBEKtjIm",
        "colab_type": "code",
        "colab": {}
      },
      "source": [
        ""
      ],
      "execution_count": null,
      "outputs": []
    },
    {
      "cell_type": "markdown",
      "metadata": {
        "id": "24ptY8_3tjIr",
        "colab_type": "text"
      },
      "source": [
        "### Identity\n",
        "\n",
        "`is` 연산자를 통해 동일한 object인지 확인할 수 있습니다. (OOP 파트에서 다시 학습하게 됩니다.)"
      ]
    },
    {
      "cell_type": "code",
      "metadata": {
        "id": "omL6dZfCtjIr",
        "colab_type": "code",
        "colab": {}
      },
      "source": [
        "# 파이썬에서 -5 부터 256 까지의 id는 동일합니다."
      ],
      "execution_count": null,
      "outputs": []
    },
    {
      "cell_type": "code",
      "metadata": {
        "id": "T2EcTouVtjIz",
        "colab_type": "code",
        "colab": {}
      },
      "source": [
        ""
      ],
      "execution_count": null,
      "outputs": []
    },
    {
      "cell_type": "code",
      "metadata": {
        "id": "vXDjWeVUtjI5",
        "colab_type": "code",
        "colab": {}
      },
      "source": [
        "# 257 이루의 id 는 다릅니다."
      ],
      "execution_count": null,
      "outputs": []
    },
    {
      "cell_type": "code",
      "metadata": {
        "id": "546_3r3ptjI7",
        "colab_type": "code",
        "colab": {}
      },
      "source": [
        ""
      ],
      "execution_count": null,
      "outputs": []
    },
    {
      "cell_type": "markdown",
      "metadata": {
        "id": "n-KGrmNttjI9",
        "colab_type": "text"
      },
      "source": [
        "### Indexing/Slicing\n",
        "`[]`를 통한 값을 접근하고, `[:]`을 통해 리스트를 슬라이싱할 수 있습니다. (Container 파트에서 자세하게 학습합니다.)"
      ]
    },
    {
      "cell_type": "code",
      "metadata": {
        "id": "aslvkLCqtjI-",
        "colab_type": "code",
        "colab": {}
      },
      "source": [
        "# 문자열을 인덱싱을 통해 값에 접근해봅시다."
      ],
      "execution_count": null,
      "outputs": []
    },
    {
      "cell_type": "code",
      "metadata": {
        "id": "M-fQ52fXtjJE",
        "colab_type": "code",
        "colab": {}
      },
      "source": [
        ""
      ],
      "execution_count": null,
      "outputs": []
    },
    {
      "cell_type": "markdown",
      "metadata": {
        "id": "WUz5E310tjJH",
        "colab_type": "text"
      },
      "source": [
        "## 연산자 우선순위\n",
        "\n",
        "0. `()`을 통한 grouping\n",
        "\n",
        "1. Slicing\n",
        "\n",
        "2. Indexing\n",
        "\n",
        "3. 제곱연산자\n",
        "    `**`\n",
        "\n",
        "4. 단항연산자 \n",
        "    `+`, `-` (음수/양수 부호)\n",
        "\n",
        "5. 산술연산자\n",
        "    `*`, `/`, `%`\n",
        "    \n",
        "6. 산술연산자\n",
        "    `+`, `-`\n",
        " \n",
        "7. 비교연산자, `in`, `is`\n",
        "\n",
        "8. `not`\n",
        "\n",
        "9. `and` \n",
        "\n",
        "10. `or`"
      ]
    },
    {
      "cell_type": "code",
      "metadata": {
        "id": "ACYHRwP5tjJH",
        "colab_type": "code",
        "colab": {}
      },
      "source": [
        "# 우선순위를 확인해봅시다."
      ],
      "execution_count": null,
      "outputs": []
    },
    {
      "cell_type": "code",
      "metadata": {
        "id": "IFHMvVSntjJK",
        "colab_type": "code",
        "colab": {}
      },
      "source": [
        ""
      ],
      "execution_count": null,
      "outputs": []
    },
    {
      "cell_type": "markdown",
      "metadata": {
        "id": "pZN22L8HtjJL",
        "colab_type": "text"
      },
      "source": [
        "### [참고] 표현식(Expression) & 문장(Statement)\n"
      ]
    },
    {
      "cell_type": "markdown",
      "metadata": {
        "id": "tLlp5vTFtjJM",
        "colab_type": "text"
      },
      "source": [
        "### 표현식(Expression)\n",
        "\n",
        "> 표현식 => `evaluate` => 값\n",
        "\n",
        "* 하나의 값(value)으로 환원(reduce)될 수 있는 문장\n",
        "* `식별자`, `값`(리터럴), `연산자`로 구성됩니다.\n",
        "* 표현식을 만드는 문법(syntax)은 일반적인 (중위표기) 수식의 규칙과 유사합니다.\n",
        "* [참고] [표현식(Expression) 문법 관련 공식문서](https://docs.python.org/3/reference/expressions.html)"
      ]
    },
    {
      "cell_type": "code",
      "metadata": {
        "id": "Sd5oQ4MCtjJM",
        "colab_type": "code",
        "colab": {}
      },
      "source": [
        "# 하나의 값(value)도 표현식(expression)이 될 수 있습니다."
      ],
      "execution_count": null,
      "outputs": []
    },
    {
      "cell_type": "code",
      "metadata": {
        "id": "VKfZ00CytjJO",
        "colab_type": "code",
        "colab": {}
      },
      "source": [
        ""
      ],
      "execution_count": null,
      "outputs": []
    },
    {
      "cell_type": "code",
      "metadata": {
        "id": "KO-G_KMqtjJR",
        "colab_type": "code",
        "colab": {}
      },
      "source": [
        "# 표현식은 하나의 값으로 평가(evaluate)될 수 있어야 합니다. 그러면 할당문(assignment statement)은 표현식일까요?"
      ],
      "execution_count": null,
      "outputs": []
    },
    {
      "cell_type": "code",
      "metadata": {
        "id": "VYIvSEOqtjJU",
        "colab_type": "code",
        "colab": {}
      },
      "source": [
        ""
      ],
      "execution_count": null,
      "outputs": []
    },
    {
      "cell_type": "code",
      "metadata": {
        "id": "k4vOlGidtjJZ",
        "colab_type": "code",
        "colab": {}
      },
      "source": [
        "# 식별자가 값이 할당되어 있는 경우 수식의 일부가 될 수 있습니다."
      ],
      "execution_count": null,
      "outputs": []
    },
    {
      "cell_type": "code",
      "metadata": {
        "id": "MTXrSfMetjJc",
        "colab_type": "code",
        "colab": {}
      },
      "source": [
        ""
      ],
      "execution_count": null,
      "outputs": []
    },
    {
      "cell_type": "code",
      "metadata": {
        "id": "gtabUjxttjJe",
        "colab_type": "code",
        "colab": {}
      },
      "source": [
        "# 표현식을 만드는 문법(syntax)은 일반적인 (중위표기) 수식의 규칙과 유사합니다. 아래와 같은 문장은 표현식이 될 수 없습니다."
      ],
      "execution_count": null,
      "outputs": []
    },
    {
      "cell_type": "code",
      "metadata": {
        "id": "SUvFJMIytjJg",
        "colab_type": "code",
        "colab": {}
      },
      "source": [
        ""
      ],
      "execution_count": null,
      "outputs": []
    },
    {
      "cell_type": "markdown",
      "metadata": {
        "id": "QkwKeQoitjJi",
        "colab_type": "text"
      },
      "source": [
        "### 문장(Statement)\n",
        "\n",
        "* 파이썬이 실행 가능한 최소한의 코드 단위 (a syntatic unit of programming)"
      ]
    },
    {
      "cell_type": "code",
      "metadata": {
        "id": "KzjCSEC1tjJj",
        "colab_type": "code",
        "colab": {}
      },
      "source": [
        "# 하나의 값(value)도 문장이 될 수 있습니다."
      ],
      "execution_count": null,
      "outputs": []
    },
    {
      "cell_type": "code",
      "metadata": {
        "id": "0LmWs-K6tjJk",
        "colab_type": "code",
        "colab": {}
      },
      "source": [
        ""
      ],
      "execution_count": null,
      "outputs": []
    },
    {
      "cell_type": "code",
      "metadata": {
        "id": "QCkLsWh8tjJq",
        "colab_type": "code",
        "colab": {}
      },
      "source": [
        "# 표현식(expression)도 문장이 될 수 있습니다."
      ],
      "execution_count": null,
      "outputs": []
    },
    {
      "cell_type": "code",
      "metadata": {
        "id": "2y72Uq_ytjJu",
        "colab_type": "code",
        "colab": {}
      },
      "source": [
        ""
      ],
      "execution_count": null,
      "outputs": []
    },
    {
      "cell_type": "code",
      "metadata": {
        "id": "yCWMd79BtjJw",
        "colab_type": "code",
        "colab": {}
      },
      "source": [
        "# 실행 가능(executable)해야 하기 때문에 아래의 코드는 문장이 될 수 없습니다."
      ],
      "execution_count": null,
      "outputs": []
    },
    {
      "cell_type": "code",
      "metadata": {
        "id": "nRPkAdyAtjJz",
        "colab_type": "code",
        "colab": {}
      },
      "source": [
        ""
      ],
      "execution_count": null,
      "outputs": []
    },
    {
      "cell_type": "markdown",
      "metadata": {
        "id": "rP6sim6etjJ1",
        "colab_type": "text"
      },
      "source": [
        "### 문장과 표현식의 관계\n",
        "\n",
        "<center><img width=\"600\" height=\"300\" src=\"https://user-images.githubusercontent.com/9452521/87619771-f41f5e00-c757-11ea-9e4b-1f76e4ca0981.png\", alt=\"variable\"/></center>"
      ]
    },
    {
      "cell_type": "markdown",
      "metadata": {
        "id": "GL9kc6E_tjJ2",
        "colab_type": "text"
      },
      "source": [
        "# 정리\n",
        "\n",
        "## 변수(Variable)와 자료형(Data Type)\n",
        "\n",
        "<center><img width=800 height=400 src=\"https://user-images.githubusercontent.com/9452521/87640197-55a7f280-c781-11ea-9cff-19c022ce704a.png\", alt=\"variable\"/></center>\n"
      ]
    }
  ]
}